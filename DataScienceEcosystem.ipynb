{
 "cells": [
  {
   "cell_type": "markdown",
   "id": "512db0d4-7d76-423a-9e32-50186f459ec8",
   "metadata": {},
   "source": [
    "# Data Science tools and Ecosystem"
   ]
  },
  {
   "cell_type": "markdown",
   "id": "855d18b6-d617-408a-a083-da47bff67742",
   "metadata": {},
   "source": [
    "In this notebook, Data Science Tools and Ecosystems are summarized"
   ]
  },
  {
   "cell_type": "markdown",
   "id": "b61a5300-47f4-4b66-aeb3-61240daef94f",
   "metadata": {},
   "source": [
    "**Objectives**\n",
    " * Create a list of the common languages used in data science\n",
    " * Create a list of the common libraries that are used in data science\n",
    " * Create a table, listing the common development environment tools that are used for data science\n",
    " * An example of an arithmetic expression in python"
   ]
  },
  {
   "cell_type": "markdown",
   "id": "b23d2c02-4267-4fdc-9e95-af7e5dcb4f38",
   "metadata": {},
   "source": [
    "## Author\n",
    "Kian"
   ]
  },
  {
   "cell_type": "markdown",
   "id": "6f7ff3e5-607f-43df-a4d1-25f35200f2aa",
   "metadata": {},
   "source": [
    "Some of the common languages that are used in data science is-\n",
    "1. Python\n",
    "2. R\n",
    "3. C and C++"
   ]
  },
  {
   "cell_type": "markdown",
   "id": "088aaa99-980e-4700-9db8-7ed6615398b7",
   "metadata": {},
   "source": [
    "Some of the common libraries that are used in data science are-\n",
    "1. NumPy\n",
    "2. Pandas\n",
    "3. ggplotteR"
   ]
  },
  {
   "cell_type": "markdown",
   "id": "c24bae1b-ece6-4ce2-8632-8723889f2a3b",
   "metadata": {},
   "source": [
    "Here I have listed some of the common development environment tools that can be used for data science\n",
    "|Data Science Tools|\n",
    "|----|\n",
    "|Rstudio|\n",
    "|Jupyter Notebooks|\n",
    "|PyCharm|"
   ]
  },
  {
   "cell_type": "markdown",
   "id": "ad8dc6cd-f891-41fc-b7ab-b04143ba1849",
   "metadata": {},
   "source": [
    "### Below I have included some examples of evaluation of arithmetic expressions in Python."
   ]
  },
  {
   "cell_type": "code",
   "execution_count": 2,
   "id": "2fe1d7f1-ee0f-46e4-962c-55d930390010",
   "metadata": {},
   "outputs": [
    {
     "data": {
      "text/plain": [
       "17"
      ]
     },
     "execution_count": 2,
     "metadata": {},
     "output_type": "execute_result"
    }
   ],
   "source": [
    "#Here I have included the mentioned example of an arithmetic expression\n",
    "(3*4)+5"
   ]
  },
  {
   "cell_type": "code",
   "execution_count": 4,
   "id": "b812e049-da2e-4c2b-90fa-68388b3d5a5d",
   "metadata": {},
   "outputs": [
    {
     "data": {
      "text/plain": [
       "3.3333333333333335"
      ]
     },
     "execution_count": 4,
     "metadata": {},
     "output_type": "execute_result"
    }
   ],
   "source": [
    "#Here I write an expression to convert 200 hours into minutes\n",
    "200/60"
   ]
  },
  {
   "cell_type": "code",
   "execution_count": null,
   "id": "08271c84-db9c-4870-9df4-1012f924f795",
   "metadata": {},
   "outputs": [],
   "source": []
  }
 ],
 "metadata": {
  "kernelspec": {
   "display_name": "Python 3 (ipykernel)",
   "language": "python",
   "name": "python3"
  },
  "language_info": {
   "codemirror_mode": {
    "name": "ipython",
    "version": 3
   },
   "file_extension": ".py",
   "mimetype": "text/x-python",
   "name": "python",
   "nbconvert_exporter": "python",
   "pygments_lexer": "ipython3",
   "version": "3.12.7"
  }
 },
 "nbformat": 4,
 "nbformat_minor": 5
}
